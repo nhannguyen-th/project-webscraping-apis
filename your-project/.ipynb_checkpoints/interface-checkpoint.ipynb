{
 "cells": [
  {
   "cell_type": "code",
   "execution_count": 1,
   "id": "5e409085",
   "metadata": {},
   "outputs": [],
   "source": [
    "import tkinter as tk\n",
    "from tkinter import StringVar\n",
    "\n",
    "# Function to get and store the selected values\n",
    "def get_selection():\n",
    "    selected_gender = gender_var.get()\n",
    "    selected_category = category_var.get()\n",
    "\n",
    "    # Do something with the selected values (e.g., print or store in variables)\n",
    "    print(f\"Selected Gender: {selected_gender}\")\n",
    "    print(f\"Selected Category: {selected_category}\")\n",
    "\n",
    "# Create the main window\n",
    "window = tk.Tk()\n",
    "window.title(\"Gift Selection\")\n",
    "\n",
    "# Create variables to store selected values\n",
    "gender_var = StringVar(window)\n",
    "category_var = StringVar(window)\n",
    "\n",
    "# Options for the dropdown lists\n",
    "gender_options = [\"Female\", \"Male\", \"Kids\"]\n",
    "category_options = [\"Entertainment\", \"Sport\", \"Book\", \"Fashion\"]\n",
    "\n",
    "# Create dropdown lists\n",
    "gender_dropdown = tk.OptionMenu(window, gender_var, *gender_options)\n",
    "category_dropdown = tk.OptionMenu(window, category_var, *category_options)\n",
    "\n",
    "# Set default values\n",
    "gender_var.set(gender_options[0])  # Default: Female\n",
    "category_var.set(category_options[0])  # Default: Entertainment\n",
    "\n",
    "# Create a button to get the selected values\n",
    "submit_button = tk.Button(window, text=\"Submit\", command=get_selection)\n",
    "\n",
    "# Arrange widgets in the window\n",
    "gender_label = tk.Label(window, text=\"Select Gender:\")\n",
    "gender_label.grid(row=0, column=0, padx=10, pady=10)\n",
    "gender_dropdown.grid(row=0, column=1, padx=10, pady=10)\n",
    "\n",
    "category_label = tk.Label(window, text=\"Select Category:\")\n",
    "category_label.grid(row=1, column=0, padx=10, pady=10)\n",
    "category_dropdown.grid(row=1, column=1, padx=10, pady=10)\n",
    "\n",
    "submit_button.grid(row=2, column=0, columnspan=2, pady=20)\n",
    "\n",
    "# Run the main loop\n",
    "window.mainloop()"
   ]
  },
  {
   "cell_type": "code",
   "execution_count": null,
   "id": "35b69d40",
   "metadata": {},
   "outputs": [],
   "source": [
    "html_content = \"\"\"\n",
    "<!DOCTYPE html>\n",
    "<html>\n",
    "<head>\n",
    "    <title>My HTML File</title>\n",
    "</head>\n",
    "<body>\n",
    "    <h1>Hello, this is my HTML file created with Python!</h1>\n",
    "    <p>This is a paragraph in the body of the HTML file.</p>\n",
    "</body>\n",
    "</html>\n",
    "\"\"\"\n",
    "\n",
    "# Specify the file path\n",
    "file_path = \"example.html\"\n",
    "\n",
    "# Write the HTML content to the file\n",
    "with open(file_path, \"w\") as file:\n",
    "    file.write(html_content)\n",
    "\n",
    "print(f\"HTML file '{file_path}' created successfully.\")"
   ]
  },
  {
   "cell_type": "code",
   "execution_count": 2,
   "id": "ac4cf2ec",
   "metadata": {},
   "outputs": [],
   "source": [
    "window.mainloop()"
   ]
  },
  {
   "cell_type": "code",
   "execution_count": null,
   "id": "a00d965b",
   "metadata": {},
   "outputs": [],
   "source": []
  }
 ],
 "metadata": {
  "kernelspec": {
   "display_name": "Python 3 (ipykernel)",
   "language": "python",
   "name": "python3"
  },
  "language_info": {
   "codemirror_mode": {
    "name": "ipython",
    "version": 3
   },
   "file_extension": ".py",
   "mimetype": "text/x-python",
   "name": "python",
   "nbconvert_exporter": "python",
   "pygments_lexer": "ipython3",
   "version": "3.11.4"
  }
 },
 "nbformat": 4,
 "nbformat_minor": 5
}
